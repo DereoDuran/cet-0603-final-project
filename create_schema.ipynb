{
 "cells": [
  {
   "cell_type": "code",
   "execution_count": 10,
   "metadata": {},
   "outputs": [],
   "source": [
    "from utils import MysqlConnector\n",
    "\n",
    "conn = MysqlConnector()\n",
    "\n",
    "with open('create_schema.sql', 'r') as f:\n",
    "    query = f.read()\n",
    "    \n",
    "for statement in query.split(';'):\n",
    "    conn.execute(statement)"
   ]
  },
  {
   "cell_type": "code",
   "execution_count": 11,
   "metadata": {},
   "outputs": [
    {
     "data": {
      "text/plain": [
       "[('Compradores',),\n",
       " ('Compras',),\n",
       " ('Enderecos',),\n",
       " ('Estoque_Materiais',),\n",
       " ('Estoque_Produtos',),\n",
       " ('Fornecedores',),\n",
       " ('Materiais',),\n",
       " ('Preco_Materiais',),\n",
       " ('Produto_Materiais',),\n",
       " ('Produtos',),\n",
       " ('Telefones',)]"
      ]
     },
     "execution_count": 11,
     "metadata": {},
     "output_type": "execute_result"
    }
   ],
   "source": [
    "conn.fetch('show tables')"
   ]
  },
  {
   "cell_type": "code",
   "execution_count": null,
   "metadata": {},
   "outputs": [],
   "source": []
  }
 ],
 "metadata": {
  "kernelspec": {
   "display_name": "Python 3.10.6 64-bit",
   "language": "python",
   "name": "python3"
  },
  "language_info": {
   "codemirror_mode": {
    "name": "ipython",
    "version": 3
   },
   "file_extension": ".py",
   "mimetype": "text/x-python",
   "name": "python",
   "nbconvert_exporter": "python",
   "pygments_lexer": "ipython3",
   "version": "3.10.6"
  },
  "orig_nbformat": 4,
  "vscode": {
   "interpreter": {
    "hash": "e7370f93d1d0cde622a1f8e1c04877d8463912d04d973331ad4851f04de6915a"
   }
  }
 },
 "nbformat": 4,
 "nbformat_minor": 2
}
